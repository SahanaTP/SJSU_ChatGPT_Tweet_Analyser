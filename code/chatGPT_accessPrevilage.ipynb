{
  "nbformat": 4,
  "nbformat_minor": 0,
  "metadata": {
    "colab": {
      "provenance": []
    },
    "kernelspec": {
      "name": "python3",
      "display_name": "Python 3"
    },
    "language_info": {
      "name": "python"
    }
  },
  "cells": [
    {
      "cell_type": "markdown",
      "source": [
        "Access Previlages:\n",
        "\n",
        "We have totally 5 users for our DB:\n",
        "1. Admin - Has all access to all DBs\n",
        "2. DBA - Has all access on CHAT_GPT_TWEETS db\n",
        "3. Developer - Has all access on CHAT_GPT_TWEETS db\n",
        "4. Analyst1 - Has SELECT access on CHAT_GPT_TWEETS db\n",
        "5. Analyst2 - Has SELECT access on one table CHAT_GPT_TWEETS.TWEETS from CHAT_GPT_TWEETS db\n",
        "\n",
        "Accesses are provided based on their roles and requirement."
      ],
      "metadata": {
        "id": "2cIaS9F1I_Jq"
      }
    },
    {
      "cell_type": "code",
      "execution_count": 59,
      "metadata": {
        "colab": {
          "base_uri": "https://localhost:8080/"
        },
        "id": "gofNozM2oMCo",
        "outputId": "de8dee64-e30f-49d2-aa14-21f2f8ed2b85"
      },
      "outputs": [
        {
          "output_type": "stream",
          "name": "stdout",
          "text": [
            "Looking in indexes: https://pypi.org/simple, https://us-python.pkg.dev/colab-wheels/public/simple/\n",
            "Requirement already satisfied: PyMySQL in /usr/local/lib/python3.9/dist-packages (1.0.2)\n"
          ]
        }
      ],
      "source": [
        "!pip install PyMySQL"
      ]
    },
    {
      "cell_type": "code",
      "source": [
        "import pymysql;"
      ],
      "metadata": {
        "id": "6FPwZYYWoasc"
      },
      "execution_count": 60,
      "outputs": []
    },
    {
      "cell_type": "code",
      "source": [
        "db = pymysql.connect(host='your host link',\n",
        "user='username', \n",
        "password = 'password')"
      ],
      "metadata": {
        "id": "QGvKA6dUoj5B"
      },
      "execution_count": 61,
      "outputs": []
    },
    {
      "cell_type": "code",
      "source": [
        "cursor = db.cursor()"
      ],
      "metadata": {
        "id": "Z4CV6bj0t7bO"
      },
      "execution_count": 62,
      "outputs": []
    },
    {
      "cell_type": "code",
      "source": [
        "cursor.execute('select version()')"
      ],
      "metadata": {
        "colab": {
          "base_uri": "https://localhost:8080/"
        },
        "id": "VkXjHQuwuDvX",
        "outputId": "5e29ca25-6fd4-486c-925b-de69476c6594"
      },
      "execution_count": null,
      "outputs": [
        {
          "output_type": "execute_result",
          "data": {
            "text/plain": [
              "1"
            ]
          },
          "metadata": {},
          "execution_count": 8
        }
      ]
    },
    {
      "cell_type": "code",
      "source": [
        "sql = '''DROP DATABASE IF EXISTS CHAT_GPT_TWEETS '''\n",
        "cursor.execute(sql)"
      ],
      "metadata": {
        "colab": {
          "base_uri": "https://localhost:8080/"
        },
        "id": "EBqLSWHsyJ61",
        "outputId": "97090506-0c97-46aa-eaf1-86228f6a6867"
      },
      "execution_count": null,
      "outputs": [
        {
          "output_type": "execute_result",
          "data": {
            "text/plain": [
              "0"
            ]
          },
          "metadata": {},
          "execution_count": 16
        }
      ]
    },
    {
      "cell_type": "code",
      "source": [
        "sql = '''CREATE DATABASE CHAT_GPT_TWEETS '''\n",
        "cursor.execute(sql)"
      ],
      "metadata": {
        "colab": {
          "base_uri": "https://localhost:8080/"
        },
        "id": "N2IGhSyGuMrj",
        "outputId": "92cb0576-31f8-4bbf-9f16-41c0cc87b42e"
      },
      "execution_count": null,
      "outputs": [
        {
          "output_type": "execute_result",
          "data": {
            "text/plain": [
              "1"
            ]
          },
          "metadata": {},
          "execution_count": 17
        }
      ]
    },
    {
      "cell_type": "code",
      "source": [
        "cursor.connection.commit()"
      ],
      "metadata": {
        "id": "JF-iZMElyCgU"
      },
      "execution_count": null,
      "outputs": []
    },
    {
      "cell_type": "code",
      "source": [
        "sql = '''SHOW DATABASES'''\n",
        "cursor.execute(sql)\n",
        "cursor.fetchall()"
      ],
      "metadata": {
        "colab": {
          "base_uri": "https://localhost:8080/"
        },
        "id": "a-CeM0zhvVWQ",
        "outputId": "3f22a637-70f7-426e-b9e9-d8f0ae45578b"
      },
      "execution_count": null,
      "outputs": [
        {
          "output_type": "execute_result",
          "data": {
            "text/plain": [
              "(('CHAT_GPT_TWEETS',),\n",
              " ('information_schema',),\n",
              " ('mysql',),\n",
              " ('performance_schema',),\n",
              " ('sys',))"
            ]
          },
          "metadata": {},
          "execution_count": 19
        }
      ]
    },
    {
      "cell_type": "code",
      "source": [
        "sql = '''USE CHAT_GPT_TWEETS'''\n",
        "cursor.execute(sql)"
      ],
      "metadata": {
        "colab": {
          "base_uri": "https://localhost:8080/"
        },
        "id": "bJ83o0rxzm9g",
        "outputId": "72975207-b1a8-4f29-b634-1e13cb7bc8d3"
      },
      "execution_count": null,
      "outputs": [
        {
          "output_type": "execute_result",
          "data": {
            "text/plain": [
              "0"
            ]
          },
          "metadata": {},
          "execution_count": 21
        }
      ]
    },
    {
      "cell_type": "code",
      "source": [
        "sql = '''CREATE TABLE TWEETS(\n",
        "  TWEET_ID INT,\n",
        "  TWEET_TEXT VARCHAR(100)\n",
        ") '''\n",
        "cursor.execute(sql)"
      ],
      "metadata": {
        "colab": {
          "base_uri": "https://localhost:8080/"
        },
        "id": "7zjBJaG5zI9t",
        "outputId": "e23732aa-f960-450e-8ab9-e1660219dca4"
      },
      "execution_count": null,
      "outputs": [
        {
          "output_type": "execute_result",
          "data": {
            "text/plain": [
              "0"
            ]
          },
          "metadata": {},
          "execution_count": 22
        }
      ]
    },
    {
      "cell_type": "code",
      "source": [
        "sql = '''INSERT INTO TWEETS(TWEET_ID, TWEET_TEXT)\n",
        "VALUES (%s, %s) \n",
        " '''\n",
        "val = ('1234', 'TWEET 123 EXAMPLE1')\n",
        "cursor.execute(sql,val)"
      ],
      "metadata": {
        "colab": {
          "base_uri": "https://localhost:8080/"
        },
        "id": "1RtkczWG0QKT",
        "outputId": "6b6b9295-dda5-45d3-a9ee-53fb15683f1d"
      },
      "execution_count": null,
      "outputs": [
        {
          "output_type": "execute_result",
          "data": {
            "text/plain": [
              "1"
            ]
          },
          "metadata": {},
          "execution_count": 32
        }
      ]
    },
    {
      "cell_type": "code",
      "source": [
        "cursor.connection.commit()"
      ],
      "metadata": {
        "id": "NipmiCB0CpfN"
      },
      "execution_count": null,
      "outputs": []
    },
    {
      "cell_type": "code",
      "source": [
        "sql = '''SELECT * FROM TWEETS;'''\n",
        "cursor.execute(sql)\n",
        "cursor.fetchall()"
      ],
      "metadata": {
        "colab": {
          "base_uri": "https://localhost:8080/"
        },
        "id": "WjQ50O-zCun4",
        "outputId": "4b434455-c2a9-40dc-d5f4-9a9f74ee128e"
      },
      "execution_count": null,
      "outputs": [
        {
          "output_type": "execute_result",
          "data": {
            "text/plain": [
              "((1234, 'TWEET 123 EXAMPLE1'),)"
            ]
          },
          "metadata": {},
          "execution_count": 34
        }
      ]
    },
    {
      "cell_type": "code",
      "source": [
        "sql = '''CREATE USER DBA \n",
        "IDENTIFIED BY 'password1';'''\n",
        "cursor.execute(sql)"
      ],
      "metadata": {
        "colab": {
          "base_uri": "https://localhost:8080/"
        },
        "id": "Hl_zF8iqCpGR",
        "outputId": "e6409ec6-910e-4dd9-9f3c-12357cfd3a38"
      },
      "execution_count": null,
      "outputs": [
        {
          "output_type": "execute_result",
          "data": {
            "text/plain": [
              "0"
            ]
          },
          "metadata": {},
          "execution_count": 35
        }
      ]
    },
    {
      "cell_type": "code",
      "source": [
        "cursor.connection.commit()"
      ],
      "metadata": {
        "id": "BVmYTZdCDkY_"
      },
      "execution_count": null,
      "outputs": []
    },
    {
      "cell_type": "code",
      "source": [
        "sql = '''CREATE USER Developer \n",
        "IDENTIFIED BY 'password1';'''\n",
        "cursor.execute(sql)"
      ],
      "metadata": {
        "colab": {
          "base_uri": "https://localhost:8080/"
        },
        "id": "WqoC9RDcEa4t",
        "outputId": "505c7efd-dd31-4aa0-acbd-af6079dd2d70"
      },
      "execution_count": null,
      "outputs": [
        {
          "output_type": "execute_result",
          "data": {
            "text/plain": [
              "0"
            ]
          },
          "metadata": {},
          "execution_count": 39
        }
      ]
    },
    {
      "cell_type": "code",
      "source": [
        "sql = '''CREATE USER Analyst1 \n",
        "IDENTIFIED BY 'password1';'''\n",
        "cursor.execute(sql)"
      ],
      "metadata": {
        "colab": {
          "base_uri": "https://localhost:8080/"
        },
        "id": "zaxb-cLrEczI",
        "outputId": "b3b6eb95-fee3-4be6-941a-aedd6169615f"
      },
      "execution_count": null,
      "outputs": [
        {
          "output_type": "execute_result",
          "data": {
            "text/plain": [
              "0"
            ]
          },
          "metadata": {},
          "execution_count": 40
        }
      ]
    },
    {
      "cell_type": "code",
      "source": [
        "sql = '''CREATE USER Analyst2 \n",
        "IDENTIFIED BY 'password1';'''\n",
        "cursor.execute(sql)"
      ],
      "metadata": {
        "colab": {
          "base_uri": "https://localhost:8080/"
        },
        "id": "FSC64AZQEcC9",
        "outputId": "36fcf4af-5fe5-44d6-f31d-98c84aac47ab"
      },
      "execution_count": null,
      "outputs": [
        {
          "output_type": "execute_result",
          "data": {
            "text/plain": [
              "0"
            ]
          },
          "metadata": {},
          "execution_count": 41
        }
      ]
    },
    {
      "cell_type": "code",
      "source": [
        "sql = '''SELECT user FROM mysql. user'''\n",
        "cursor.execute(sql)\n",
        "cursor.fetchall()"
      ],
      "metadata": {
        "colab": {
          "base_uri": "https://localhost:8080/"
        },
        "id": "WH8iSKnYDXFc",
        "outputId": "452a32c5-e8a5-4424-f21b-afe9a14b66d0"
      },
      "execution_count": 63,
      "outputs": [
        {
          "output_type": "execute_result",
          "data": {
            "text/plain": [
              "(('Analyst1',),\n",
              " ('Analyst2',),\n",
              " ('DBA',),\n",
              " ('Developer',),\n",
              " ('admin',),\n",
              " ('mysql.infoschema',),\n",
              " ('mysql.session',),\n",
              " ('mysql.sys',),\n",
              " ('rdsadmin',))"
            ]
          },
          "metadata": {},
          "execution_count": 63
        }
      ]
    },
    {
      "cell_type": "code",
      "source": [
        "# grant all access for CHAT_GPT_TWEETS db to DBA\n",
        "sql = '''GRANT ALL ON CHAT_GPT_TWEETS.* TO DBA;'''\n",
        "cursor.execute(sql)"
      ],
      "metadata": {
        "colab": {
          "base_uri": "https://localhost:8080/"
        },
        "id": "ZWWuRsGjFJ5A",
        "outputId": "31ba86c0-b7b6-482b-8c87-3537489d3bc8"
      },
      "execution_count": null,
      "outputs": [
        {
          "output_type": "execute_result",
          "data": {
            "text/plain": [
              "0"
            ]
          },
          "metadata": {},
          "execution_count": 47
        }
      ]
    },
    {
      "cell_type": "code",
      "source": [
        "# grant all access for all tables in CHAT_GPT_TWEETS db to Developer\n",
        "sql = '''GRANT ALL ON CHAT_GPT_TWEETS.* TO Developer;'''\n",
        "cursor.execute(sql)"
      ],
      "metadata": {
        "colab": {
          "base_uri": "https://localhost:8080/"
        },
        "id": "saW_LrpDFx6x",
        "outputId": "07260404-7b6f-4419-9bcf-a412e1ebc2a2"
      },
      "execution_count": null,
      "outputs": [
        {
          "output_type": "execute_result",
          "data": {
            "text/plain": [
              "0"
            ]
          },
          "metadata": {},
          "execution_count": 48
        }
      ]
    },
    {
      "cell_type": "code",
      "source": [
        "# grant SELECT access for all tables in CHAT_GPT_TWEETS db to Analyst1\n",
        "sql = '''GRANT SELECT ON CHAT_GPT_TWEETS.* TO Analyst1;'''\n",
        "cursor.execute(sql)"
      ],
      "metadata": {
        "colab": {
          "base_uri": "https://localhost:8080/"
        },
        "id": "OuJp-cjGFyqq",
        "outputId": "90a2f046-77d7-4798-f5fa-ee1a7263b2bd"
      },
      "execution_count": null,
      "outputs": [
        {
          "output_type": "execute_result",
          "data": {
            "text/plain": [
              "0"
            ]
          },
          "metadata": {},
          "execution_count": 49
        }
      ]
    },
    {
      "cell_type": "code",
      "source": [
        "# grant SELECT access for only TWEET table in CHAT_GPT_TWEETS db to Analyst2\n",
        "sql = '''GRANT SELECT ON CHAT_GPT_TWEETS.TWEETS TO Analyst2;'''\n",
        "cursor.execute(sql)"
      ],
      "metadata": {
        "colab": {
          "base_uri": "https://localhost:8080/"
        },
        "id": "bxlM7m_IFz07",
        "outputId": "c9886a96-3235-42c6-fa45-d43caea28ae6"
      },
      "execution_count": null,
      "outputs": [
        {
          "output_type": "execute_result",
          "data": {
            "text/plain": [
              "0"
            ]
          },
          "metadata": {},
          "execution_count": 50
        }
      ]
    }
  ]
}